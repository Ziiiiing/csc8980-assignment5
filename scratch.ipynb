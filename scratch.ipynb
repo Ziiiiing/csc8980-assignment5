{
  "cells": [
    {
      "cell_type": "code",
      "execution_count": 1,
      "id": "9504047e",
      "metadata": {
        "id": "9504047e"
      },
      "outputs": [],
      "source": [
        "import os \n",
        "import json\n",
        "import time\n",
        "import math\n",
        "import numpy as np\n",
        "import argparse\n",
        "import torch\n",
        "import torch.nn as nn\n",
        "from torch.utils.data import DataLoader\n",
        "import torch.optim as optim\n",
        "from torch.utils.tensorboard import SummaryWriter\n"
      ]
    },
    {
      "cell_type": "code",
      "execution_count": null,
      "id": "f7472c58-b051-4b8b-b5fa-4431fd85cc7b",
      "metadata": {
        "id": "f7472c58-b051-4b8b-b5fa-4431fd85cc7b"
      },
      "outputs": [],
      "source": [
        ""
      ]
    }
  ],
  "metadata": {
    "kernelspec": {
      "display_name": "csci8980",
      "language": "python",
      "name": "csci8980"
    },
    "language_info": {
      "codemirror_mode": {
        "name": "ipython",
        "version": 3
      },
      "file_extension": ".py",
      "mimetype": "text/x-python",
      "name": "python",
      "nbconvert_exporter": "python",
      "pygments_lexer": "ipython3",
      "version": "3.7.12"
    },
    "colab": {
      "name": "scratch.ipynb",
      "provenance": []
    }
  },
  "nbformat": 4,
  "nbformat_minor": 5
}